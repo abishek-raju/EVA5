{
  "nbformat": 4,
  "nbformat_minor": 0,
  "metadata": {
    "colab": {
      "name": "Untitled14.ipynb",
      "provenance": [],
      "collapsed_sections": []
    },
    "kernelspec": {
      "name": "python3",
      "display_name": "Python 3"
    },
    "accelerator": "GPU",
    "widgets": {
      "application/vnd.jupyter.widget-state+json": {
        "21382d63374b44bab9afdd273e351585": {
          "model_module": "@jupyter-widgets/controls",
          "model_name": "HBoxModel",
          "state": {
            "_view_name": "HBoxView",
            "_dom_classes": [],
            "_model_name": "HBoxModel",
            "_view_module": "@jupyter-widgets/controls",
            "_model_module_version": "1.5.0",
            "_view_count": null,
            "_view_module_version": "1.5.0",
            "box_style": "",
            "layout": "IPY_MODEL_5a21ba2b6a4c4718a7dfcb5052934f68",
            "_model_module": "@jupyter-widgets/controls",
            "children": [
              "IPY_MODEL_2e50467f6cb942528ad3a2a7a30f7c0b",
              "IPY_MODEL_2b505c29fe9c464e8403929f1d58a078"
            ]
          }
        },
        "5a21ba2b6a4c4718a7dfcb5052934f68": {
          "model_module": "@jupyter-widgets/base",
          "model_name": "LayoutModel",
          "state": {
            "_view_name": "LayoutView",
            "grid_template_rows": null,
            "right": null,
            "justify_content": null,
            "_view_module": "@jupyter-widgets/base",
            "overflow": null,
            "_model_module_version": "1.2.0",
            "_view_count": null,
            "flex_flow": null,
            "width": null,
            "min_width": null,
            "border": null,
            "align_items": null,
            "bottom": null,
            "_model_module": "@jupyter-widgets/base",
            "top": null,
            "grid_column": null,
            "overflow_y": null,
            "overflow_x": null,
            "grid_auto_flow": null,
            "grid_area": null,
            "grid_template_columns": null,
            "flex": null,
            "_model_name": "LayoutModel",
            "justify_items": null,
            "grid_row": null,
            "max_height": null,
            "align_content": null,
            "visibility": null,
            "align_self": null,
            "height": null,
            "min_height": null,
            "padding": null,
            "grid_auto_rows": null,
            "grid_gap": null,
            "max_width": null,
            "order": null,
            "_view_module_version": "1.2.0",
            "grid_template_areas": null,
            "object_position": null,
            "object_fit": null,
            "grid_auto_columns": null,
            "margin": null,
            "display": null,
            "left": null
          }
        },
        "2e50467f6cb942528ad3a2a7a30f7c0b": {
          "model_module": "@jupyter-widgets/controls",
          "model_name": "FloatProgressModel",
          "state": {
            "_view_name": "ProgressView",
            "style": "IPY_MODEL_ffb797349ccc4a6d8d23343d65ebd41d",
            "_dom_classes": [],
            "description": "",
            "_model_name": "FloatProgressModel",
            "bar_style": "info",
            "max": 1,
            "_view_module": "@jupyter-widgets/controls",
            "_model_module_version": "1.5.0",
            "value": 1,
            "_view_count": null,
            "_view_module_version": "1.5.0",
            "orientation": "horizontal",
            "min": 0,
            "description_tooltip": null,
            "_model_module": "@jupyter-widgets/controls",
            "layout": "IPY_MODEL_6b290220acde4ed889116fe52b3318b5"
          }
        },
        "2b505c29fe9c464e8403929f1d58a078": {
          "model_module": "@jupyter-widgets/controls",
          "model_name": "HTMLModel",
          "state": {
            "_view_name": "HTMLView",
            "style": "IPY_MODEL_08c20271628d4562ae9c3964a1b4245e",
            "_dom_classes": [],
            "description": "",
            "_model_name": "HTMLModel",
            "placeholder": "​",
            "_view_module": "@jupyter-widgets/controls",
            "_model_module_version": "1.5.0",
            "value": " 170500096/? [00:20&lt;00:00, 110213070.40it/s]",
            "_view_count": null,
            "_view_module_version": "1.5.0",
            "description_tooltip": null,
            "_model_module": "@jupyter-widgets/controls",
            "layout": "IPY_MODEL_e6aa6761b69f49adbafb4ca79115ce28"
          }
        },
        "ffb797349ccc4a6d8d23343d65ebd41d": {
          "model_module": "@jupyter-widgets/controls",
          "model_name": "ProgressStyleModel",
          "state": {
            "_view_name": "StyleView",
            "_model_name": "ProgressStyleModel",
            "description_width": "initial",
            "_view_module": "@jupyter-widgets/base",
            "_model_module_version": "1.5.0",
            "_view_count": null,
            "_view_module_version": "1.2.0",
            "bar_color": null,
            "_model_module": "@jupyter-widgets/controls"
          }
        },
        "6b290220acde4ed889116fe52b3318b5": {
          "model_module": "@jupyter-widgets/base",
          "model_name": "LayoutModel",
          "state": {
            "_view_name": "LayoutView",
            "grid_template_rows": null,
            "right": null,
            "justify_content": null,
            "_view_module": "@jupyter-widgets/base",
            "overflow": null,
            "_model_module_version": "1.2.0",
            "_view_count": null,
            "flex_flow": null,
            "width": null,
            "min_width": null,
            "border": null,
            "align_items": null,
            "bottom": null,
            "_model_module": "@jupyter-widgets/base",
            "top": null,
            "grid_column": null,
            "overflow_y": null,
            "overflow_x": null,
            "grid_auto_flow": null,
            "grid_area": null,
            "grid_template_columns": null,
            "flex": null,
            "_model_name": "LayoutModel",
            "justify_items": null,
            "grid_row": null,
            "max_height": null,
            "align_content": null,
            "visibility": null,
            "align_self": null,
            "height": null,
            "min_height": null,
            "padding": null,
            "grid_auto_rows": null,
            "grid_gap": null,
            "max_width": null,
            "order": null,
            "_view_module_version": "1.2.0",
            "grid_template_areas": null,
            "object_position": null,
            "object_fit": null,
            "grid_auto_columns": null,
            "margin": null,
            "display": null,
            "left": null
          }
        },
        "08c20271628d4562ae9c3964a1b4245e": {
          "model_module": "@jupyter-widgets/controls",
          "model_name": "DescriptionStyleModel",
          "state": {
            "_view_name": "StyleView",
            "_model_name": "DescriptionStyleModel",
            "description_width": "",
            "_view_module": "@jupyter-widgets/base",
            "_model_module_version": "1.5.0",
            "_view_count": null,
            "_view_module_version": "1.2.0",
            "_model_module": "@jupyter-widgets/controls"
          }
        },
        "e6aa6761b69f49adbafb4ca79115ce28": {
          "model_module": "@jupyter-widgets/base",
          "model_name": "LayoutModel",
          "state": {
            "_view_name": "LayoutView",
            "grid_template_rows": null,
            "right": null,
            "justify_content": null,
            "_view_module": "@jupyter-widgets/base",
            "overflow": null,
            "_model_module_version": "1.2.0",
            "_view_count": null,
            "flex_flow": null,
            "width": null,
            "min_width": null,
            "border": null,
            "align_items": null,
            "bottom": null,
            "_model_module": "@jupyter-widgets/base",
            "top": null,
            "grid_column": null,
            "overflow_y": null,
            "overflow_x": null,
            "grid_auto_flow": null,
            "grid_area": null,
            "grid_template_columns": null,
            "flex": null,
            "_model_name": "LayoutModel",
            "justify_items": null,
            "grid_row": null,
            "max_height": null,
            "align_content": null,
            "visibility": null,
            "align_self": null,
            "height": null,
            "min_height": null,
            "padding": null,
            "grid_auto_rows": null,
            "grid_gap": null,
            "max_width": null,
            "order": null,
            "_view_module_version": "1.2.0",
            "grid_template_areas": null,
            "object_position": null,
            "object_fit": null,
            "grid_auto_columns": null,
            "margin": null,
            "display": null,
            "left": null
          }
        }
      }
    }
  },
  "cells": [
    {
      "cell_type": "code",
      "metadata": {
        "id": "awc5n_k2ZUXj"
      },
      "source": [
        "# import os\n",
        "# os.mkdir(\"S8\")\n",
        "# with open('model.py', 'w') as fp: \n",
        "#     pass\n",
        "# %cd ..\n",
        "# %cd ..\n",
        "import shutil\n",
        "try:\n",
        "  shutil.rmtree(\"./EVA5\")\n",
        "except:\n",
        "  pass"
      ],
      "execution_count": 1,
      "outputs": []
    },
    {
      "cell_type": "code",
      "metadata": {
        "colab": {
          "base_uri": "https://localhost:8080/"
        },
        "id": "c3Oim4lcY7dV",
        "outputId": "551981d8-1bc2-4157-ec84-1144de8b49a4"
      },
      "source": [
        "!git clone https://github.com/abishek-raju/EVA5.git"
      ],
      "execution_count": 2,
      "outputs": [
        {
          "output_type": "stream",
          "text": [
            "Cloning into 'EVA5'...\n",
            "remote: Enumerating objects: 62, done.\u001b[K\n",
            "remote: Counting objects:   1% (1/62)\u001b[K\rremote: Counting objects:   3% (2/62)\u001b[K\rremote: Counting objects:   4% (3/62)\u001b[K\rremote: Counting objects:   6% (4/62)\u001b[K\rremote: Counting objects:   8% (5/62)\u001b[K\rremote: Counting objects:   9% (6/62)\u001b[K\rremote: Counting objects:  11% (7/62)\u001b[K\rremote: Counting objects:  12% (8/62)\u001b[K\rremote: Counting objects:  14% (9/62)\u001b[K\rremote: Counting objects:  16% (10/62)\u001b[K\rremote: Counting objects:  17% (11/62)\u001b[K\rremote: Counting objects:  19% (12/62)\u001b[K\rremote: Counting objects:  20% (13/62)\u001b[K\rremote: Counting objects:  22% (14/62)\u001b[K\rremote: Counting objects:  24% (15/62)\u001b[K\rremote: Counting objects:  25% (16/62)\u001b[K\rremote: Counting objects:  27% (17/62)\u001b[K\rremote: Counting objects:  29% (18/62)\u001b[K\rremote: Counting objects:  30% (19/62)\u001b[K\rremote: Counting objects:  32% (20/62)\u001b[K\rremote: Counting objects:  33% (21/62)\u001b[K\rremote: Counting objects:  35% (22/62)\u001b[K\rremote: Counting objects:  37% (23/62)\u001b[K\rremote: Counting objects:  38% (24/62)\u001b[K\rremote: Counting objects:  40% (25/62)\u001b[K\rremote: Counting objects:  41% (26/62)\u001b[K\rremote: Counting objects:  43% (27/62)\u001b[K\rremote: Counting objects:  45% (28/62)\u001b[K\rremote: Counting objects:  46% (29/62)\u001b[K\rremote: Counting objects:  48% (30/62)\u001b[K\rremote: Counting objects:  50% (31/62)\u001b[K\rremote: Counting objects:  51% (32/62)\u001b[K\rremote: Counting objects:  53% (33/62)\u001b[K\rremote: Counting objects:  54% (34/62)\u001b[K\rremote: Counting objects:  56% (35/62)\u001b[K\rremote: Counting objects:  58% (36/62)\u001b[K\rremote: Counting objects:  59% (37/62)\u001b[K\rremote: Counting objects:  61% (38/62)\u001b[K\rremote: Counting objects:  62% (39/62)\u001b[K\rremote: Counting objects:  64% (40/62)\u001b[K\rremote: Counting objects:  66% (41/62)\u001b[K\rremote: Counting objects:  67% (42/62)\u001b[K\rremote: Counting objects:  69% (43/62)\u001b[K\rremote: Counting objects:  70% (44/62)\u001b[K\rremote: Counting objects:  72% (45/62)\u001b[K\rremote: Counting objects:  74% (46/62)\u001b[K\rremote: Counting objects:  75% (47/62)\u001b[K\rremote: Counting objects:  77% (48/62)\u001b[K\rremote: Counting objects:  79% (49/62)\u001b[K\rremote: Counting objects:  80% (50/62)\u001b[K\rremote: Counting objects:  82% (51/62)\u001b[K\rremote: Counting objects:  83% (52/62)\u001b[K\rremote: Counting objects:  85% (53/62)\u001b[K\rremote: Counting objects:  87% (54/62)\u001b[K\rremote: Counting objects:  88% (55/62)\u001b[K\rremote: Counting objects:  90% (56/62)\u001b[K\rremote: Counting objects:  91% (57/62)\u001b[K\rremote: Counting objects:  93% (58/62)\u001b[K\rremote: Counting objects:  95% (59/62)\u001b[K\rremote: Counting objects:  96% (60/62)\u001b[K\rremote: Counting objects:  98% (61/62)\u001b[K\rremote: Counting objects: 100% (62/62)\u001b[K\rremote: Counting objects: 100% (62/62), done.\u001b[K\n",
            "remote: Compressing objects:   2% (1/42)\u001b[K\rremote: Compressing objects:   4% (2/42)\u001b[K\rremote: Compressing objects:   7% (3/42)\u001b[K\rremote: Compressing objects:   9% (4/42)\u001b[K\rremote: Compressing objects:  11% (5/42)\u001b[K\rremote: Compressing objects:  14% (6/42)\u001b[K\rremote: Compressing objects:  16% (7/42)\u001b[K\rremote: Compressing objects:  19% (8/42)\u001b[K\rremote: Compressing objects:  21% (9/42)\u001b[K\rremote: Compressing objects:  23% (10/42)\u001b[K\rremote: Compressing objects:  26% (11/42)\u001b[K\rremote: Compressing objects:  28% (12/42)\u001b[K\rremote: Compressing objects:  30% (13/42)\u001b[K\rremote: Compressing objects:  33% (14/42)\u001b[K\rremote: Compressing objects:  35% (15/42)\u001b[K\rremote: Compressing objects:  38% (16/42)\u001b[K\rremote: Compressing objects:  40% (17/42)\u001b[K\rremote: Compressing objects:  42% (18/42)\u001b[K\rremote: Compressing objects:  45% (19/42)\u001b[K\rremote: Compressing objects:  47% (20/42)\u001b[K\rremote: Compressing objects:  50% (21/42)\u001b[K\rremote: Compressing objects:  52% (22/42)\u001b[K\rremote: Compressing objects:  54% (23/42)\u001b[K\rremote: Compressing objects:  57% (24/42)\u001b[K\rremote: Compressing objects:  59% (25/42)\u001b[K\rremote: Compressing objects:  61% (26/42)\u001b[K\rremote: Compressing objects:  64% (27/42)\u001b[K\rremote: Compressing objects:  66% (28/42)\u001b[K\rremote: Compressing objects:  69% (29/42)\u001b[K\rremote: Compressing objects:  71% (30/42)\u001b[K\rremote: Compressing objects:  73% (31/42)\u001b[K\rremote: Compressing objects:  76% (32/42)\u001b[K\rremote: Compressing objects:  78% (33/42)\u001b[K\rremote: Compressing objects:  80% (34/42)\u001b[K\rremote: Compressing objects:  83% (35/42)\u001b[K\rremote: Compressing objects:  85% (36/42)\u001b[K\rremote: Compressing objects:  88% (37/42)\u001b[K\rremote: Compressing objects:  90% (38/42)\u001b[K\rremote: Compressing objects:  92% (39/42)\u001b[K\rremote: Compressing objects:  95% (40/42)\u001b[K\rremote: Compressing objects:  97% (41/42)\u001b[K\rremote: Compressing objects: 100% (42/42)\u001b[K\rremote: Compressing objects: 100% (42/42), done.\u001b[K\n",
            "remote: Total 62 (delta 34), reused 42 (delta 17), pack-reused 0\u001b[K\n",
            "Unpacking objects:   1% (1/62)   \rUnpacking objects:   3% (2/62)   \rUnpacking objects:   4% (3/62)   \rUnpacking objects:   6% (4/62)   \rUnpacking objects:   8% (5/62)   \rUnpacking objects:   9% (6/62)   \rUnpacking objects:  11% (7/62)   \rUnpacking objects:  12% (8/62)   \rUnpacking objects:  14% (9/62)   \rUnpacking objects:  16% (10/62)   \rUnpacking objects:  17% (11/62)   \rUnpacking objects:  19% (12/62)   \rUnpacking objects:  20% (13/62)   \rUnpacking objects:  22% (14/62)   \rUnpacking objects:  24% (15/62)   \rUnpacking objects:  25% (16/62)   \rUnpacking objects:  27% (17/62)   \rUnpacking objects:  29% (18/62)   \rUnpacking objects:  30% (19/62)   \rUnpacking objects:  32% (20/62)   \rUnpacking objects:  33% (21/62)   \rUnpacking objects:  35% (22/62)   \rUnpacking objects:  37% (23/62)   \rUnpacking objects:  38% (24/62)   \rUnpacking objects:  40% (25/62)   \rUnpacking objects:  41% (26/62)   \rUnpacking objects:  43% (27/62)   \rUnpacking objects:  45% (28/62)   \rUnpacking objects:  46% (29/62)   \rUnpacking objects:  48% (30/62)   \rUnpacking objects:  50% (31/62)   \rUnpacking objects:  51% (32/62)   \rUnpacking objects:  53% (33/62)   \rUnpacking objects:  54% (34/62)   \rUnpacking objects:  56% (35/62)   \rUnpacking objects:  58% (36/62)   \rUnpacking objects:  59% (37/62)   \rUnpacking objects:  61% (38/62)   \rUnpacking objects:  62% (39/62)   \rUnpacking objects:  64% (40/62)   \rUnpacking objects:  66% (41/62)   \rUnpacking objects:  67% (42/62)   \rUnpacking objects:  69% (43/62)   \rUnpacking objects:  70% (44/62)   \rUnpacking objects:  72% (45/62)   \rUnpacking objects:  74% (46/62)   \rUnpacking objects:  75% (47/62)   \rUnpacking objects:  77% (48/62)   \rUnpacking objects:  79% (49/62)   \rUnpacking objects:  80% (50/62)   \rUnpacking objects:  82% (51/62)   \rUnpacking objects:  83% (52/62)   \rUnpacking objects:  85% (53/62)   \rUnpacking objects:  87% (54/62)   \rUnpacking objects:  88% (55/62)   \rUnpacking objects:  90% (56/62)   \rUnpacking objects:  91% (57/62)   \rUnpacking objects:  93% (58/62)   \rUnpacking objects:  95% (59/62)   \rUnpacking objects:  96% (60/62)   \rUnpacking objects:  98% (61/62)   \rUnpacking objects: 100% (62/62)   \rUnpacking objects: 100% (62/62), done.\n"
          ],
          "name": "stdout"
        }
      ]
    },
    {
      "cell_type": "code",
      "metadata": {
        "id": "TMxiHh5NHlEL"
      },
      "source": [
        "# %ls"
      ],
      "execution_count": 3,
      "outputs": []
    },
    {
      "cell_type": "code",
      "metadata": {
        "id": "l4Fj7YGQt5ws",
        "colab": {
          "base_uri": "https://localhost:8080/"
        },
        "outputId": "7704e297-89df-465d-f1da-fe31e46aa822"
      },
      "source": [
        "%cd EVA5/S8"
      ],
      "execution_count": 4,
      "outputs": [
        {
          "output_type": "stream",
          "text": [
            "/content/EVA5/S8\n"
          ],
          "name": "stdout"
        }
      ]
    },
    {
      "cell_type": "code",
      "metadata": {
        "id": "waKEYj7saEcY"
      },
      "source": [
        "from __future__ import print_function\n",
        "import torch\n",
        "import torch.nn as nn\n",
        "import torch.nn.functional as F\n",
        "import torch.optim as optim\n",
        "import torchvision\n",
        "from torchvision import datasets, transforms\n",
        "import torch.backends.cudnn as cudnn"
      ],
      "execution_count": 5,
      "outputs": []
    },
    {
      "cell_type": "code",
      "metadata": {
        "id": "mWl9VBmshhjp"
      },
      "source": [
        "device = 'cuda' if torch.cuda.is_available() else 'cpu'"
      ],
      "execution_count": 6,
      "outputs": []
    },
    {
      "cell_type": "code",
      "metadata": {
        "colab": {
          "base_uri": "https://localhost:8080/",
          "height": 35
        },
        "id": "kOHQtuP9u4rg",
        "outputId": "e66e32ec-ab1a-4339-f182-ca317024595e"
      },
      "source": [
        "device"
      ],
      "execution_count": 7,
      "outputs": [
        {
          "output_type": "execute_result",
          "data": {
            "application/vnd.google.colaboratory.intrinsic+json": {
              "type": "string"
            },
            "text/plain": [
              "'cuda'"
            ]
          },
          "metadata": {
            "tags": []
          },
          "execution_count": 7
        }
      ]
    },
    {
      "cell_type": "code",
      "metadata": {
        "id": "bFePulrhfjg_"
      },
      "source": [
        "from dataloader import load_cifar_data"
      ],
      "execution_count": 8,
      "outputs": []
    },
    {
      "cell_type": "code",
      "metadata": {
        "colab": {
          "base_uri": "https://localhost:8080/",
          "height": 100,
          "referenced_widgets": [
            "21382d63374b44bab9afdd273e351585",
            "5a21ba2b6a4c4718a7dfcb5052934f68",
            "2e50467f6cb942528ad3a2a7a30f7c0b",
            "2b505c29fe9c464e8403929f1d58a078",
            "ffb797349ccc4a6d8d23343d65ebd41d",
            "6b290220acde4ed889116fe52b3318b5",
            "08c20271628d4562ae9c3964a1b4245e",
            "e6aa6761b69f49adbafb4ca79115ce28"
          ]
        },
        "id": "KW7lLqnSfpoe",
        "outputId": "736e9beb-a988-4a7c-dc39-c55c291635db"
      },
      "source": [
        "trn_loader ,test_loader, classes = load_cifar_data()"
      ],
      "execution_count": 9,
      "outputs": [
        {
          "output_type": "stream",
          "text": [
            "Downloading https://www.cs.toronto.edu/~kriz/cifar-10-python.tar.gz to ./data/cifar-10-python.tar.gz\n"
          ],
          "name": "stdout"
        },
        {
          "output_type": "display_data",
          "data": {
            "application/vnd.jupyter.widget-view+json": {
              "model_id": "21382d63374b44bab9afdd273e351585",
              "version_minor": 0,
              "version_major": 2
            },
            "text/plain": [
              "HBox(children=(FloatProgress(value=1.0, bar_style='info', max=1.0), HTML(value='')))"
            ]
          },
          "metadata": {
            "tags": []
          }
        },
        {
          "output_type": "stream",
          "text": [
            "Extracting ./data/cifar-10-python.tar.gz to ./data\n",
            "Files already downloaded and verified\n"
          ],
          "name": "stdout"
        }
      ]
    },
    {
      "cell_type": "code",
      "metadata": {
        "id": "PTo5VnX0t6z3"
      },
      "source": [
        "from model import ResNet18"
      ],
      "execution_count": 10,
      "outputs": []
    },
    {
      "cell_type": "code",
      "metadata": {
        "id": "aZhU2k42uwrd"
      },
      "source": [
        "net = ResNet18(device)"
      ],
      "execution_count": 11,
      "outputs": []
    },
    {
      "cell_type": "code",
      "metadata": {
        "id": "mLDIU-3BvFQ0"
      },
      "source": [
        "criterion = nn.CrossEntropyLoss()\n",
        "optimizer = optim.SGD(net.parameters(), lr=0.1,\n",
        "                      momentum=0.9, weight_decay=5e-4)\n",
        "scheduler = torch.optim.lr_scheduler.CosineAnnealingLR(optimizer, T_max=200)"
      ],
      "execution_count": 12,
      "outputs": []
    },
    {
      "cell_type": "code",
      "metadata": {
        "id": "6vlTEJ2mGzb6"
      },
      "source": [
        "from train import train\n",
        "from test import test"
      ],
      "execution_count": 13,
      "outputs": []
    },
    {
      "cell_type": "code",
      "metadata": {
        "colab": {
          "base_uri": "https://localhost:8080/"
        },
        "id": "Jpfp7I5dGym4",
        "outputId": "f834128a-305e-4c7e-c1ed-e176a5e17ef4"
      },
      "source": [
        "for epoch in range(1,40):\n",
        "    train_average_loss,train_accuracy = train(epoch,net,device,trn_loader,optimizer,criterion)\n",
        "    test_average_loss,test_accuracy = test(epoch,net,test_loader,device,criterion)\n",
        "    print(f'\\nEpoch: {epoch}\\n\\t Train set: Average loss: {train_average_loss}, Accuracy: {train_accuracy}%')\n",
        "    print(f'\\n\\tTest set: Average loss: {test_average_loss}, Accuracy: {test_accuracy}%')\n",
        "    scheduler.step()"
      ],
      "execution_count": 14,
      "outputs": [
        {
          "output_type": "stream",
          "text": [
            "\r  0%|          | 0/391 [00:00<?, ?it/s]"
          ],
          "name": "stderr"
        },
        {
          "output_type": "stream",
          "text": [
            "\n",
            "Epoch: 1\n"
          ],
          "name": "stdout"
        },
        {
          "output_type": "stream",
          "text": [
            "100%|██████████| 391/391 [00:38<00:00, 10.03it/s]\n",
            "100%|██████████| 100/100 [00:03<00:00, 32.09it/s]\n",
            "  0%|          | 0/391 [00:00<?, ?it/s]"
          ],
          "name": "stderr"
        },
        {
          "output_type": "stream",
          "text": [
            "\n",
            "Epoch: 1\n",
            "\t Train set: Average loss: 2.044550185923076, Accuracy: 26.644%\n",
            "\n",
            "\tTest set: Average loss: 1.6480771017074585, Accuracy: 37.69%\n",
            "\n",
            "Epoch: 2\n"
          ],
          "name": "stdout"
        },
        {
          "output_type": "stream",
          "text": [
            "100%|██████████| 391/391 [00:38<00:00, 10.17it/s]\n",
            "100%|██████████| 100/100 [00:02<00:00, 34.20it/s]\n",
            "  0%|          | 0/391 [00:00<?, ?it/s]"
          ],
          "name": "stderr"
        },
        {
          "output_type": "stream",
          "text": [
            "\n",
            "Epoch: 2\n",
            "\t Train set: Average loss: 1.542576170028628, Accuracy: 42.604%\n",
            "\n",
            "\tTest set: Average loss: 1.554681785106659, Accuracy: 44.58%\n",
            "\n",
            "Epoch: 3\n"
          ],
          "name": "stdout"
        },
        {
          "output_type": "stream",
          "text": [
            "100%|██████████| 391/391 [00:39<00:00, 10.00it/s]\n",
            "100%|██████████| 100/100 [00:02<00:00, 33.84it/s]\n",
            "  0%|          | 0/391 [00:00<?, ?it/s]"
          ],
          "name": "stderr"
        },
        {
          "output_type": "stream",
          "text": [
            "\n",
            "Epoch: 3\n",
            "\t Train set: Average loss: 1.301231104699547, Accuracy: 52.434%\n",
            "\n",
            "\tTest set: Average loss: 1.2746461641788482, Accuracy: 54.28%\n",
            "\n",
            "Epoch: 4\n"
          ],
          "name": "stdout"
        },
        {
          "output_type": "stream",
          "text": [
            "100%|██████████| 391/391 [00:39<00:00,  9.84it/s]\n",
            "100%|██████████| 100/100 [00:02<00:00, 34.25it/s]\n",
            "  0%|          | 0/391 [00:00<?, ?it/s]"
          ],
          "name": "stderr"
        },
        {
          "output_type": "stream",
          "text": [
            "\n",
            "Epoch: 4\n",
            "\t Train set: Average loss: 1.0823545460505863, Accuracy: 61.298%\n",
            "\n",
            "\tTest set: Average loss: 1.0349803280830383, Accuracy: 63.66%\n",
            "\n",
            "Epoch: 5\n"
          ],
          "name": "stdout"
        },
        {
          "output_type": "stream",
          "text": [
            "100%|██████████| 391/391 [00:39<00:00,  9.80it/s]\n",
            "100%|██████████| 100/100 [00:02<00:00, 33.87it/s]\n",
            "  0%|          | 0/391 [00:00<?, ?it/s]"
          ],
          "name": "stderr"
        },
        {
          "output_type": "stream",
          "text": [
            "\n",
            "Epoch: 5\n",
            "\t Train set: Average loss: 0.9522605413366156, Accuracy: 66.506%\n",
            "\n",
            "\tTest set: Average loss: 1.0805097258090972, Accuracy: 63.26%\n",
            "\n",
            "Epoch: 6\n"
          ],
          "name": "stdout"
        },
        {
          "output_type": "stream",
          "text": [
            "100%|██████████| 391/391 [00:39<00:00,  9.78it/s]\n",
            "100%|██████████| 100/100 [00:02<00:00, 34.47it/s]\n",
            "  0%|          | 0/391 [00:00<?, ?it/s]"
          ],
          "name": "stderr"
        },
        {
          "output_type": "stream",
          "text": [
            "\n",
            "Epoch: 6\n",
            "\t Train set: Average loss: 0.861408081658356, Accuracy: 69.454%\n",
            "\n",
            "\tTest set: Average loss: 1.242553535103798, Accuracy: 60.09%\n",
            "\n",
            "Epoch: 7\n"
          ],
          "name": "stdout"
        },
        {
          "output_type": "stream",
          "text": [
            "100%|██████████| 391/391 [00:40<00:00,  9.73it/s]\n",
            "100%|██████████| 100/100 [00:02<00:00, 33.58it/s]\n",
            "  0%|          | 0/391 [00:00<?, ?it/s]"
          ],
          "name": "stderr"
        },
        {
          "output_type": "stream",
          "text": [
            "\n",
            "Epoch: 7\n",
            "\t Train set: Average loss: 0.7755363792409677, Accuracy: 72.648%\n",
            "\n",
            "\tTest set: Average loss: 0.9256665974855423, Accuracy: 67.93%\n",
            "\n",
            "Epoch: 8\n"
          ],
          "name": "stdout"
        },
        {
          "output_type": "stream",
          "text": [
            "100%|██████████| 391/391 [00:40<00:00,  9.75it/s]\n",
            "100%|██████████| 100/100 [00:02<00:00, 33.64it/s]\n",
            "  0%|          | 0/391 [00:00<?, ?it/s]"
          ],
          "name": "stderr"
        },
        {
          "output_type": "stream",
          "text": [
            "\n",
            "Epoch: 8\n",
            "\t Train set: Average loss: 0.6730663511149414, Accuracy: 76.51%\n",
            "\n",
            "\tTest set: Average loss: 0.8140382796525956, Accuracy: 73.4%\n",
            "\n",
            "Epoch: 9\n"
          ],
          "name": "stdout"
        },
        {
          "output_type": "stream",
          "text": [
            "100%|██████████| 391/391 [00:40<00:00,  9.77it/s]\n",
            "100%|██████████| 100/100 [00:02<00:00, 33.60it/s]\n",
            "  0%|          | 0/391 [00:00<?, ?it/s]"
          ],
          "name": "stderr"
        },
        {
          "output_type": "stream",
          "text": [
            "\n",
            "Epoch: 9\n",
            "\t Train set: Average loss: 0.6122444352073133, Accuracy: 78.858%\n",
            "\n",
            "\tTest set: Average loss: 0.7295868271589279, Accuracy: 75.13%\n",
            "\n",
            "Epoch: 10\n"
          ],
          "name": "stdout"
        },
        {
          "output_type": "stream",
          "text": [
            "100%|██████████| 391/391 [00:39<00:00,  9.78it/s]\n",
            "100%|██████████| 100/100 [00:02<00:00, 33.35it/s]\n",
            "  0%|          | 0/391 [00:00<?, ?it/s]"
          ],
          "name": "stderr"
        },
        {
          "output_type": "stream",
          "text": [
            "\n",
            "Epoch: 10\n",
            "\t Train set: Average loss: 0.5711513256935208, Accuracy: 80.44%\n",
            "\n",
            "\tTest set: Average loss: 0.7187180623412133, Accuracy: 75.74%\n",
            "\n",
            "Epoch: 11\n"
          ],
          "name": "stdout"
        },
        {
          "output_type": "stream",
          "text": [
            "100%|██████████| 391/391 [00:40<00:00,  9.75it/s]\n",
            "100%|██████████| 100/100 [00:02<00:00, 33.98it/s]\n",
            "  0%|          | 0/391 [00:00<?, ?it/s]"
          ],
          "name": "stderr"
        },
        {
          "output_type": "stream",
          "text": [
            "\n",
            "Epoch: 11\n",
            "\t Train set: Average loss: 0.5422286571139265, Accuracy: 81.23%\n",
            "\n",
            "\tTest set: Average loss: 0.6723201170563697, Accuracy: 78.24%\n",
            "\n",
            "Epoch: 12\n"
          ],
          "name": "stdout"
        },
        {
          "output_type": "stream",
          "text": [
            "100%|██████████| 391/391 [00:40<00:00,  9.76it/s]\n",
            "100%|██████████| 100/100 [00:02<00:00, 34.22it/s]\n",
            "  0%|          | 0/391 [00:00<?, ?it/s]"
          ],
          "name": "stderr"
        },
        {
          "output_type": "stream",
          "text": [
            "\n",
            "Epoch: 12\n",
            "\t Train set: Average loss: 0.5157671821544237, Accuracy: 82.248%\n",
            "\n",
            "\tTest set: Average loss: 0.6008207845687866, Accuracy: 79.26%\n",
            "\n",
            "Epoch: 13\n"
          ],
          "name": "stdout"
        },
        {
          "output_type": "stream",
          "text": [
            "100%|██████████| 391/391 [00:40<00:00,  9.77it/s]\n",
            "100%|██████████| 100/100 [00:02<00:00, 34.17it/s]\n",
            "  0%|          | 0/391 [00:00<?, ?it/s]"
          ],
          "name": "stderr"
        },
        {
          "output_type": "stream",
          "text": [
            "\n",
            "Epoch: 13\n",
            "\t Train set: Average loss: 0.49494552536083913, Accuracy: 82.856%\n",
            "\n",
            "\tTest set: Average loss: 0.8077285191416741, Accuracy: 72.79%\n",
            "\n",
            "Epoch: 14\n"
          ],
          "name": "stdout"
        },
        {
          "output_type": "stream",
          "text": [
            "100%|██████████| 391/391 [00:40<00:00,  9.75it/s]\n",
            "100%|██████████| 100/100 [00:02<00:00, 33.75it/s]\n",
            "  0%|          | 0/391 [00:00<?, ?it/s]"
          ],
          "name": "stderr"
        },
        {
          "output_type": "stream",
          "text": [
            "\n",
            "Epoch: 14\n",
            "\t Train set: Average loss: 0.4792058333716429, Accuracy: 83.552%\n",
            "\n",
            "\tTest set: Average loss: 0.5712877434492111, Accuracy: 79.94%\n",
            "\n",
            "Epoch: 15\n"
          ],
          "name": "stdout"
        },
        {
          "output_type": "stream",
          "text": [
            "100%|██████████| 391/391 [00:39<00:00,  9.78it/s]\n",
            "100%|██████████| 100/100 [00:02<00:00, 34.44it/s]\n",
            "  0%|          | 0/391 [00:00<?, ?it/s]"
          ],
          "name": "stderr"
        },
        {
          "output_type": "stream",
          "text": [
            "\n",
            "Epoch: 15\n",
            "\t Train set: Average loss: 0.4585677358652929, Accuracy: 84.22%\n",
            "\n",
            "\tTest set: Average loss: 0.5671217623353004, Accuracy: 80.9%\n",
            "\n",
            "Epoch: 16\n"
          ],
          "name": "stdout"
        },
        {
          "output_type": "stream",
          "text": [
            "100%|██████████| 391/391 [00:39<00:00,  9.79it/s]\n",
            "100%|██████████| 100/100 [00:02<00:00, 34.46it/s]\n",
            "  0%|          | 0/391 [00:00<?, ?it/s]"
          ],
          "name": "stderr"
        },
        {
          "output_type": "stream",
          "text": [
            "\n",
            "Epoch: 16\n",
            "\t Train set: Average loss: 0.4506936199067499, Accuracy: 84.664%\n",
            "\n",
            "\tTest set: Average loss: 0.5065106910467148, Accuracy: 82.64%\n",
            "\n",
            "Epoch: 17\n"
          ],
          "name": "stdout"
        },
        {
          "output_type": "stream",
          "text": [
            "100%|██████████| 391/391 [00:39<00:00,  9.80it/s]\n",
            "100%|██████████| 100/100 [00:02<00:00, 34.03it/s]\n",
            "  0%|          | 0/391 [00:00<?, ?it/s]"
          ],
          "name": "stderr"
        },
        {
          "output_type": "stream",
          "text": [
            "\n",
            "Epoch: 17\n",
            "\t Train set: Average loss: 0.4419297736776454, Accuracy: 84.84%\n",
            "\n",
            "\tTest set: Average loss: 0.6388388952612877, Accuracy: 79.6%\n",
            "\n",
            "Epoch: 18\n"
          ],
          "name": "stdout"
        },
        {
          "output_type": "stream",
          "text": [
            "100%|██████████| 391/391 [00:40<00:00,  9.77it/s]\n",
            "100%|██████████| 100/100 [00:02<00:00, 34.24it/s]\n",
            "  0%|          | 0/391 [00:00<?, ?it/s]"
          ],
          "name": "stderr"
        },
        {
          "output_type": "stream",
          "text": [
            "\n",
            "Epoch: 18\n",
            "\t Train set: Average loss: 0.4281806433978288, Accuracy: 85.336%\n",
            "\n",
            "\tTest set: Average loss: 0.5332505166530609, Accuracy: 81.94%\n",
            "\n",
            "Epoch: 19\n"
          ],
          "name": "stdout"
        },
        {
          "output_type": "stream",
          "text": [
            "100%|██████████| 391/391 [00:39<00:00,  9.79it/s]\n",
            "100%|██████████| 100/100 [00:02<00:00, 34.45it/s]\n",
            "  0%|          | 0/391 [00:00<?, ?it/s]"
          ],
          "name": "stderr"
        },
        {
          "output_type": "stream",
          "text": [
            "\n",
            "Epoch: 19\n",
            "\t Train set: Average loss: 0.4229472911418856, Accuracy: 85.416%\n",
            "\n",
            "\tTest set: Average loss: 0.5455024483799934, Accuracy: 82.07%\n",
            "\n",
            "Epoch: 20\n"
          ],
          "name": "stdout"
        },
        {
          "output_type": "stream",
          "text": [
            "100%|██████████| 391/391 [00:39<00:00,  9.78it/s]\n",
            "100%|██████████| 100/100 [00:02<00:00, 33.52it/s]\n",
            "  0%|          | 0/391 [00:00<?, ?it/s]"
          ],
          "name": "stderr"
        },
        {
          "output_type": "stream",
          "text": [
            "\n",
            "Epoch: 20\n",
            "\t Train set: Average loss: 0.4121344743863396, Accuracy: 86.002%\n",
            "\n",
            "\tTest set: Average loss: 0.521148593723774, Accuracy: 82.2%\n",
            "\n",
            "Epoch: 21\n"
          ],
          "name": "stdout"
        },
        {
          "output_type": "stream",
          "text": [
            "100%|██████████| 391/391 [00:40<00:00,  9.77it/s]\n",
            "100%|██████████| 100/100 [00:02<00:00, 33.39it/s]\n",
            "  0%|          | 0/391 [00:00<?, ?it/s]"
          ],
          "name": "stderr"
        },
        {
          "output_type": "stream",
          "text": [
            "\n",
            "Epoch: 21\n",
            "\t Train set: Average loss: 0.4086152789614085, Accuracy: 86.008%\n",
            "\n",
            "\tTest set: Average loss: 0.55707843542099, Accuracy: 82.05%\n",
            "\n",
            "Epoch: 22\n"
          ],
          "name": "stdout"
        },
        {
          "output_type": "stream",
          "text": [
            "100%|██████████| 391/391 [00:40<00:00,  9.74it/s]\n",
            "100%|██████████| 100/100 [00:02<00:00, 34.44it/s]\n",
            "  0%|          | 0/391 [00:00<?, ?it/s]"
          ],
          "name": "stderr"
        },
        {
          "output_type": "stream",
          "text": [
            "\n",
            "Epoch: 22\n",
            "\t Train set: Average loss: 0.39426341976808466, Accuracy: 86.54%\n",
            "\n",
            "\tTest set: Average loss: 0.5330855667591095, Accuracy: 82.0%\n",
            "\n",
            "Epoch: 23\n"
          ],
          "name": "stdout"
        },
        {
          "output_type": "stream",
          "text": [
            "100%|██████████| 391/391 [00:40<00:00,  9.76it/s]\n",
            "100%|██████████| 100/100 [00:02<00:00, 34.21it/s]\n",
            "  0%|          | 0/391 [00:00<?, ?it/s]"
          ],
          "name": "stderr"
        },
        {
          "output_type": "stream",
          "text": [
            "\n",
            "Epoch: 23\n",
            "\t Train set: Average loss: 0.3889741941791056, Accuracy: 86.626%\n",
            "\n",
            "\tTest set: Average loss: 0.5130790901184082, Accuracy: 83.11%\n",
            "\n",
            "Epoch: 24\n"
          ],
          "name": "stdout"
        },
        {
          "output_type": "stream",
          "text": [
            "100%|██████████| 391/391 [00:40<00:00,  9.76it/s]\n",
            "100%|██████████| 100/100 [00:02<00:00, 34.74it/s]\n",
            "  0%|          | 0/391 [00:00<?, ?it/s]"
          ],
          "name": "stderr"
        },
        {
          "output_type": "stream",
          "text": [
            "\n",
            "Epoch: 24\n",
            "\t Train set: Average loss: 0.38357816236403286, Accuracy: 86.83%\n",
            "\n",
            "\tTest set: Average loss: 0.5967923387885093, Accuracy: 80.21%\n",
            "\n",
            "Epoch: 25\n"
          ],
          "name": "stdout"
        },
        {
          "output_type": "stream",
          "text": [
            "100%|██████████| 391/391 [00:39<00:00,  9.81it/s]\n",
            "100%|██████████| 100/100 [00:02<00:00, 34.01it/s]\n",
            "  0%|          | 0/391 [00:00<?, ?it/s]"
          ],
          "name": "stderr"
        },
        {
          "output_type": "stream",
          "text": [
            "\n",
            "Epoch: 25\n",
            "\t Train set: Average loss: 0.3821083476857456, Accuracy: 86.8%\n",
            "\n",
            "\tTest set: Average loss: 0.5446129649877548, Accuracy: 82.25%\n",
            "\n",
            "Epoch: 26\n"
          ],
          "name": "stdout"
        },
        {
          "output_type": "stream",
          "text": [
            "100%|██████████| 391/391 [00:40<00:00,  9.75it/s]\n",
            "100%|██████████| 100/100 [00:02<00:00, 34.06it/s]\n",
            "  0%|          | 0/391 [00:00<?, ?it/s]"
          ],
          "name": "stderr"
        },
        {
          "output_type": "stream",
          "text": [
            "\n",
            "Epoch: 26\n",
            "\t Train set: Average loss: 0.37441693616035343, Accuracy: 87.156%\n",
            "\n",
            "\tTest set: Average loss: 0.4890834441781044, Accuracy: 83.76%\n",
            "\n",
            "Epoch: 27\n"
          ],
          "name": "stdout"
        },
        {
          "output_type": "stream",
          "text": [
            "100%|██████████| 391/391 [00:39<00:00,  9.79it/s]\n",
            "100%|██████████| 100/100 [00:02<00:00, 34.17it/s]\n",
            "  0%|          | 0/391 [00:00<?, ?it/s]"
          ],
          "name": "stderr"
        },
        {
          "output_type": "stream",
          "text": [
            "\n",
            "Epoch: 27\n",
            "\t Train set: Average loss: 0.369460167977816, Accuracy: 87.444%\n",
            "\n",
            "\tTest set: Average loss: 0.521698040664196, Accuracy: 82.94%\n",
            "\n",
            "Epoch: 28\n"
          ],
          "name": "stdout"
        },
        {
          "output_type": "stream",
          "text": [
            "100%|██████████| 391/391 [00:39<00:00,  9.81it/s]\n",
            "100%|██████████| 100/100 [00:02<00:00, 34.33it/s]\n",
            "  0%|          | 0/391 [00:00<?, ?it/s]"
          ],
          "name": "stderr"
        },
        {
          "output_type": "stream",
          "text": [
            "\n",
            "Epoch: 28\n",
            "\t Train set: Average loss: 0.3690430717852414, Accuracy: 87.37%\n",
            "\n",
            "\tTest set: Average loss: 0.6033422759175301, Accuracy: 79.76%\n",
            "\n",
            "Epoch: 29\n"
          ],
          "name": "stdout"
        },
        {
          "output_type": "stream",
          "text": [
            "100%|██████████| 391/391 [00:39<00:00,  9.79it/s]\n",
            "100%|██████████| 100/100 [00:02<00:00, 34.24it/s]\n",
            "  0%|          | 0/391 [00:00<?, ?it/s]"
          ],
          "name": "stderr"
        },
        {
          "output_type": "stream",
          "text": [
            "\n",
            "Epoch: 29\n",
            "\t Train set: Average loss: 0.36566004412405934, Accuracy: 87.442%\n",
            "\n",
            "\tTest set: Average loss: 0.4272411048412323, Accuracy: 85.87%\n",
            "\n",
            "Epoch: 30\n"
          ],
          "name": "stdout"
        },
        {
          "output_type": "stream",
          "text": [
            "100%|██████████| 391/391 [00:39<00:00,  9.80it/s]\n",
            "100%|██████████| 100/100 [00:02<00:00, 34.71it/s]\n",
            "  0%|          | 0/391 [00:00<?, ?it/s]"
          ],
          "name": "stderr"
        },
        {
          "output_type": "stream",
          "text": [
            "\n",
            "Epoch: 30\n",
            "\t Train set: Average loss: 0.3583197255649835, Accuracy: 87.684%\n",
            "\n",
            "\tTest set: Average loss: 0.6163433849811554, Accuracy: 80.54%\n",
            "\n",
            "Epoch: 31\n"
          ],
          "name": "stdout"
        },
        {
          "output_type": "stream",
          "text": [
            "100%|██████████| 391/391 [00:39<00:00,  9.79it/s]\n",
            "100%|██████████| 100/100 [00:02<00:00, 34.56it/s]\n",
            "  0%|          | 0/391 [00:00<?, ?it/s]"
          ],
          "name": "stderr"
        },
        {
          "output_type": "stream",
          "text": [
            "\n",
            "Epoch: 31\n",
            "\t Train set: Average loss: 0.3548168115451208, Accuracy: 87.706%\n",
            "\n",
            "\tTest set: Average loss: 0.6275393706560135, Accuracy: 79.14%\n",
            "\n",
            "Epoch: 32\n"
          ],
          "name": "stdout"
        },
        {
          "output_type": "stream",
          "text": [
            "100%|██████████| 391/391 [00:39<00:00,  9.79it/s]\n",
            "100%|██████████| 100/100 [00:02<00:00, 34.82it/s]\n",
            "  0%|          | 0/391 [00:00<?, ?it/s]"
          ],
          "name": "stderr"
        },
        {
          "output_type": "stream",
          "text": [
            "\n",
            "Epoch: 32\n",
            "\t Train set: Average loss: 0.34801256302220135, Accuracy: 88.202%\n",
            "\n",
            "\tTest set: Average loss: 0.4894547063112259, Accuracy: 83.47%\n",
            "\n",
            "Epoch: 33\n"
          ],
          "name": "stdout"
        },
        {
          "output_type": "stream",
          "text": [
            "100%|██████████| 391/391 [00:39<00:00,  9.80it/s]\n",
            "100%|██████████| 100/100 [00:02<00:00, 34.09it/s]\n",
            "  0%|          | 0/391 [00:00<?, ?it/s]"
          ],
          "name": "stderr"
        },
        {
          "output_type": "stream",
          "text": [
            "\n",
            "Epoch: 33\n",
            "\t Train set: Average loss: 0.34927477514195016, Accuracy: 88.072%\n",
            "\n",
            "\tTest set: Average loss: 0.46862458169460297, Accuracy: 84.33%\n",
            "\n",
            "Epoch: 34\n"
          ],
          "name": "stdout"
        },
        {
          "output_type": "stream",
          "text": [
            "100%|██████████| 391/391 [00:40<00:00,  9.77it/s]\n",
            "100%|██████████| 100/100 [00:02<00:00, 34.66it/s]\n",
            "  0%|          | 0/391 [00:00<?, ?it/s]"
          ],
          "name": "stderr"
        },
        {
          "output_type": "stream",
          "text": [
            "\n",
            "Epoch: 34\n",
            "\t Train set: Average loss: 0.350636527818792, Accuracy: 88.12%\n",
            "\n",
            "\tTest set: Average loss: 0.4795853787660599, Accuracy: 84.02%\n",
            "\n",
            "Epoch: 35\n"
          ],
          "name": "stdout"
        },
        {
          "output_type": "stream",
          "text": [
            "100%|██████████| 391/391 [00:40<00:00,  9.74it/s]\n",
            "100%|██████████| 100/100 [00:02<00:00, 34.12it/s]\n",
            "  0%|          | 0/391 [00:00<?, ?it/s]"
          ],
          "name": "stderr"
        },
        {
          "output_type": "stream",
          "text": [
            "\n",
            "Epoch: 35\n",
            "\t Train set: Average loss: 0.34466104403786035, Accuracy: 88.254%\n",
            "\n",
            "\tTest set: Average loss: 0.503189697265625, Accuracy: 83.28%\n",
            "\n",
            "Epoch: 36\n"
          ],
          "name": "stdout"
        },
        {
          "output_type": "stream",
          "text": [
            "100%|██████████| 391/391 [00:39<00:00,  9.80it/s]\n",
            "100%|██████████| 100/100 [00:02<00:00, 34.23it/s]\n",
            "  0%|          | 0/391 [00:00<?, ?it/s]"
          ],
          "name": "stderr"
        },
        {
          "output_type": "stream",
          "text": [
            "\n",
            "Epoch: 36\n",
            "\t Train set: Average loss: 0.338059703293054, Accuracy: 88.456%\n",
            "\n",
            "\tTest set: Average loss: 0.4960369503498077, Accuracy: 84.04%\n",
            "\n",
            "Epoch: 37\n"
          ],
          "name": "stdout"
        },
        {
          "output_type": "stream",
          "text": [
            "100%|██████████| 391/391 [00:39<00:00,  9.78it/s]\n",
            "100%|██████████| 100/100 [00:02<00:00, 34.58it/s]\n",
            "  0%|          | 0/391 [00:00<?, ?it/s]"
          ],
          "name": "stderr"
        },
        {
          "output_type": "stream",
          "text": [
            "\n",
            "Epoch: 37\n",
            "\t Train set: Average loss: 0.3348680821144977, Accuracy: 88.458%\n",
            "\n",
            "\tTest set: Average loss: 0.5905378490686417, Accuracy: 81.15%\n",
            "\n",
            "Epoch: 38\n"
          ],
          "name": "stdout"
        },
        {
          "output_type": "stream",
          "text": [
            "100%|██████████| 391/391 [00:40<00:00,  9.77it/s]\n",
            "100%|██████████| 100/100 [00:02<00:00, 34.37it/s]\n",
            "  0%|          | 0/391 [00:00<?, ?it/s]"
          ],
          "name": "stderr"
        },
        {
          "output_type": "stream",
          "text": [
            "\n",
            "Epoch: 38\n",
            "\t Train set: Average loss: 0.33293524555995335, Accuracy: 88.606%\n",
            "\n",
            "\tTest set: Average loss: 0.40918718338012694, Accuracy: 85.77%\n",
            "\n",
            "Epoch: 39\n"
          ],
          "name": "stdout"
        },
        {
          "output_type": "stream",
          "text": [
            "100%|██████████| 391/391 [00:39<00:00,  9.79it/s]\n",
            "100%|██████████| 100/100 [00:02<00:00, 34.52it/s]"
          ],
          "name": "stderr"
        },
        {
          "output_type": "stream",
          "text": [
            "\n",
            "Epoch: 39\n",
            "\t Train set: Average loss: 0.3310459374695483, Accuracy: 88.678%\n",
            "\n",
            "\tTest set: Average loss: 0.5219725412130356, Accuracy: 83.24%\n"
          ],
          "name": "stdout"
        },
        {
          "output_type": "stream",
          "text": [
            "\n"
          ],
          "name": "stderr"
        }
      ]
    }
  ]
}