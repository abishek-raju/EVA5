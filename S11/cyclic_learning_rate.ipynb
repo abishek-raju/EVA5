{
 "cells": [
  {
   "cell_type": "code",
   "execution_count": 1,
   "metadata": {},
   "outputs": [],
   "source": [
    "import numpy as np\n",
    "\n",
    "\n",
    "import matplotlib.pyplot as plt"
   ]
  },
  {
   "cell_type": "code",
   "execution_count": 2,
   "metadata": {},
   "outputs": [
    {
     "data": {
      "text/plain": [
       "782.0"
      ]
     },
     "execution_count": 2,
     "metadata": {},
     "output_type": "execute_result"
    }
   ],
   "source": [
    "# Let's see how do we calculate a general schedule.\n",
    "\n",
    "train_data_len = 50000\n",
    "batch_size=64 \n",
    "iterations_one_epoch = np.ceil(train_data_len/batch_size)\n",
    "\n",
    "iterations_one_epoch"
   ]
  },
  {
   "cell_type": "code",
   "execution_count": 3,
   "metadata": {},
   "outputs": [],
   "source": [
    "lr_min = 0.003\n",
    "\n",
    "lr_max = 0.01"
   ]
  },
  {
   "cell_type": "code",
   "execution_count": null,
   "metadata": {},
   "outputs": [],
   "source": [
    "# Let's define a cycle first:\n",
    "\n",
    "#  good to keep stepsize  equal to 2-10 times the number of iterations.\n",
    "\n",
    "cycle = np.floor(1+iterations/2*(stepsize))"
   ]
  },
  {
   "cell_type": "code",
   "execution_count": null,
   "metadata": {},
   "outputs": [],
   "source": [
    "\n",
    "# floor  function makes 2.3 = 2 and so on.\n",
    "# iterations  represents the number of batches we have completed\n",
    "# stepsize  defines one-half of a cycle\n",
    "\n",
    "# current_cycle = np.floor( 1 + 10010/(2*1000)) = floor (~5) = 5.\n",
    "\n",
    "lrt = lr_min + (lr_max−lr_min) * (1−x)\n",
    "\n",
    "x = abs((iterations/stepsize)−2*(cycle)+1)"
   ]
  },
  {
   "cell_type": "code",
   "execution_count": 35,
   "metadata": {},
   "outputs": [
    {
     "name": "stdout",
     "output_type": "stream",
     "text": [
      "******************** Step\n",
      "******************** Cycle Change\n",
      "******************** Step\n",
      "******************** Step\n",
      "******************** Cycle Change\n",
      "******************** Step\n",
      "******************** Step\n",
      "******************** Cycle Change\n"
     ]
    }
   ],
   "source": [
    "learning_rates = []\n",
    "\n",
    "for it in range(int(iterations_one_epoch*10)):\n",
    "    \n",
    "    stepsize = 2*iterations_one_epoch\n",
    "    cycle = np.floor(1+it/(2*stepsize))\n",
    "    \n",
    "    if it % stepsize ==0:\n",
    "        print('*'*20,'Step')\n",
    "    \n",
    "    if cycle_old != cycle:\n",
    "        print('*'*20,'Cycle Change')\n",
    "        \n",
    "    x = abs((it/stepsize)-(2*cycle)+1)\n",
    "    lrt = lr_min + (lr_max-lr_min) * (1-x)\n",
    "    \n",
    "    cycle_old = cycle\n",
    "    learning_rates.append(lrt)"
   ]
  },
  {
   "cell_type": "code",
   "execution_count": 37,
   "metadata": {},
   "outputs": [
    {
     "data": {
      "text/plain": [
       "[<matplotlib.lines.Line2D at 0x25b6c11c048>]"
      ]
     },
     "execution_count": 37,
     "metadata": {},
     "output_type": "execute_result"
    },
    {
     "data": {
      "image/png": "[encoded data removed]",
      "text/plain": [
       "<Figure size 432x288 with 1 Axes>"
      ]
     },
     "metadata": {
      "needs_background": "light"
     },
     "output_type": "display_data"
    }
   ],
   "source": [
    "plt.plot([lr_min for i in range(8000)])\n",
    "\n",
    "plt.plot([lr_max for i in range(8000)])\n",
    "plt.plot(learning_rates)"
   ]
  },
  {
   "cell_type": "code",
   "execution_count": 42,
   "metadata": {},
   "outputs": [
    {
     "data": {
      "text/plain": [
       "0.0021000000000000003"
      ]
     },
     "execution_count": 42,
     "metadata": {},
     "output_type": "execute_result"
    }
   ],
   "source": [
    "2.10E-02/10"
   ]
  },
  {
   "cell_type": "code",
   "execution_count": 45,
   "metadata": {},
   "outputs": [
    {
     "data": {
      "text/plain": [
       "0.20833333333333334"
      ]
     },
     "execution_count": 45,
     "metadata": {},
     "output_type": "execute_result"
    }
   ],
   "source": [
    "5/24"
   ]
  }
 ],
 "metadata": {
  "kernelspec": {
   "display_name": "Python 3",
   "language": "python",
   "name": "python3"
  },
  "language_info": {
   "codemirror_mode": {
    "name": "ipython",
    "version": 3
   },
   "file_extension": ".py",
   "mimetype": "text/x-python",
   "name": "python",
   "nbconvert_exporter": "python",
   "pygments_lexer": "ipython3",
   "version": "3.7.3"
  }
 },
 "nbformat": 4,
 "nbformat_minor": 4
}
