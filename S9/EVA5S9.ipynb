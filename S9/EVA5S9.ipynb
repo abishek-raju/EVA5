{
  "nbformat": 4,
  "nbformat_minor": 0,
  "metadata": {
    "colab": {
      "name": "EVA5S9.ipynb",
      "provenance": [],
      "collapsed_sections": []
    },
    "kernelspec": {
      "name": "python3",
      "display_name": "Python 3"
    },
    "accelerator": "GPU",
    "widgets": {
      "application/vnd.jupyter.widget-state+json": {
        "2c00011763e14a6fa18a5e0a5374c2b1": {
          "model_module": "@jupyter-widgets/controls",
          "model_name": "HBoxModel",
          "state": {
            "_view_name": "HBoxView",
            "_dom_classes": [],
            "_model_name": "HBoxModel",
            "_view_module": "@jupyter-widgets/controls",
            "_model_module_version": "1.5.0",
            "_view_count": null,
            "_view_module_version": "1.5.0",
            "box_style": "",
            "layout": "IPY_MODEL_ed221766cd4245faaa50e7ffac77d7c0",
            "_model_module": "@jupyter-widgets/controls",
            "children": [
              "IPY_MODEL_ade271eeb6104db793ad5ace4c7bf10a",
              "IPY_MODEL_a9760799df6648e7ab6f9a263c76217d"
            ]
          }
        },
        "ed221766cd4245faaa50e7ffac77d7c0": {
          "model_module": "@jupyter-widgets/base",
          "model_name": "LayoutModel",
          "state": {
            "_view_name": "LayoutView",
            "grid_template_rows": null,
            "right": null,
            "justify_content": null,
            "_view_module": "@jupyter-widgets/base",
            "overflow": null,
            "_model_module_version": "1.2.0",
            "_view_count": null,
            "flex_flow": null,
            "width": null,
            "min_width": null,
            "border": null,
            "align_items": null,
            "bottom": null,
            "_model_module": "@jupyter-widgets/base",
            "top": null,
            "grid_column": null,
            "overflow_y": null,
            "overflow_x": null,
            "grid_auto_flow": null,
            "grid_area": null,
            "grid_template_columns": null,
            "flex": null,
            "_model_name": "LayoutModel",
            "justify_items": null,
            "grid_row": null,
            "max_height": null,
            "align_content": null,
            "visibility": null,
            "align_self": null,
            "height": null,
            "min_height": null,
            "padding": null,
            "grid_auto_rows": null,
            "grid_gap": null,
            "max_width": null,
            "order": null,
            "_view_module_version": "1.2.0",
            "grid_template_areas": null,
            "object_position": null,
            "object_fit": null,
            "grid_auto_columns": null,
            "margin": null,
            "display": null,
            "left": null
          }
        },
        "ade271eeb6104db793ad5ace4c7bf10a": {
          "model_module": "@jupyter-widgets/controls",
          "model_name": "FloatProgressModel",
          "state": {
            "_view_name": "ProgressView",
            "style": "IPY_MODEL_76617b09ccfa415588e6ea5a98299b9f",
            "_dom_classes": [],
            "description": "",
            "_model_name": "FloatProgressModel",
            "bar_style": "info",
            "max": 1,
            "_view_module": "@jupyter-widgets/controls",
            "_model_module_version": "1.5.0",
            "value": 1,
            "_view_count": null,
            "_view_module_version": "1.5.0",
            "orientation": "horizontal",
            "min": 0,
            "description_tooltip": null,
            "_model_module": "@jupyter-widgets/controls",
            "layout": "IPY_MODEL_35170405b25c479e951d726175886aee"
          }
        },
        "a9760799df6648e7ab6f9a263c76217d": {
          "model_module": "@jupyter-widgets/controls",
          "model_name": "HTMLModel",
          "state": {
            "_view_name": "HTMLView",
            "style": "IPY_MODEL_f60783d5277c49fc860713611e4a0aaa",
            "_dom_classes": [],
            "description": "",
            "_model_name": "HTMLModel",
            "placeholder": "​",
            "_view_module": "@jupyter-widgets/controls",
            "_model_module_version": "1.5.0",
            "value": " 170500096/? [00:20&lt;00:00, 55354817.38it/s]",
            "_view_count": null,
            "_view_module_version": "1.5.0",
            "description_tooltip": null,
            "_model_module": "@jupyter-widgets/controls",
            "layout": "IPY_MODEL_ba8743e923c7446e9a88c66c6edd471c"
          }
        },
        "76617b09ccfa415588e6ea5a98299b9f": {
          "model_module": "@jupyter-widgets/controls",
          "model_name": "ProgressStyleModel",
          "state": {
            "_view_name": "StyleView",
            "_model_name": "ProgressStyleModel",
            "description_width": "initial",
            "_view_module": "@jupyter-widgets/base",
            "_model_module_version": "1.5.0",
            "_view_count": null,
            "_view_module_version": "1.2.0",
            "bar_color": null,
            "_model_module": "@jupyter-widgets/controls"
          }
        },
        "35170405b25c479e951d726175886aee": {
          "model_module": "@jupyter-widgets/base",
          "model_name": "LayoutModel",
          "state": {
            "_view_name": "LayoutView",
            "grid_template_rows": null,
            "right": null,
            "justify_content": null,
            "_view_module": "@jupyter-widgets/base",
            "overflow": null,
            "_model_module_version": "1.2.0",
            "_view_count": null,
            "flex_flow": null,
            "width": null,
            "min_width": null,
            "border": null,
            "align_items": null,
            "bottom": null,
            "_model_module": "@jupyter-widgets/base",
            "top": null,
            "grid_column": null,
            "overflow_y": null,
            "overflow_x": null,
            "grid_auto_flow": null,
            "grid_area": null,
            "grid_template_columns": null,
            "flex": null,
            "_model_name": "LayoutModel",
            "justify_items": null,
            "grid_row": null,
            "max_height": null,
            "align_content": null,
            "visibility": null,
            "align_self": null,
            "height": null,
            "min_height": null,
            "padding": null,
            "grid_auto_rows": null,
            "grid_gap": null,
            "max_width": null,
            "order": null,
            "_view_module_version": "1.2.0",
            "grid_template_areas": null,
            "object_position": null,
            "object_fit": null,
            "grid_auto_columns": null,
            "margin": null,
            "display": null,
            "left": null
          }
        },
        "f60783d5277c49fc860713611e4a0aaa": {
          "model_module": "@jupyter-widgets/controls",
          "model_name": "DescriptionStyleModel",
          "state": {
            "_view_name": "StyleView",
            "_model_name": "DescriptionStyleModel",
            "description_width": "",
            "_view_module": "@jupyter-widgets/base",
            "_model_module_version": "1.5.0",
            "_view_count": null,
            "_view_module_version": "1.2.0",
            "_model_module": "@jupyter-widgets/controls"
          }
        },
        "ba8743e923c7446e9a88c66c6edd471c": {
          "model_module": "@jupyter-widgets/base",
          "model_name": "LayoutModel",
          "state": {
            "_view_name": "LayoutView",
            "grid_template_rows": null,
            "right": null,
            "justify_content": null,
            "_view_module": "@jupyter-widgets/base",
            "overflow": null,
            "_model_module_version": "1.2.0",
            "_view_count": null,
            "flex_flow": null,
            "width": null,
            "min_width": null,
            "border": null,
            "align_items": null,
            "bottom": null,
            "_model_module": "@jupyter-widgets/base",
            "top": null,
            "grid_column": null,
            "overflow_y": null,
            "overflow_x": null,
            "grid_auto_flow": null,
            "grid_area": null,
            "grid_template_columns": null,
            "flex": null,
            "_model_name": "LayoutModel",
            "justify_items": null,
            "grid_row": null,
            "max_height": null,
            "align_content": null,
            "visibility": null,
            "align_self": null,
            "height": null,
            "min_height": null,
            "padding": null,
            "grid_auto_rows": null,
            "grid_gap": null,
            "max_width": null,
            "order": null,
            "_view_module_version": "1.2.0",
            "grid_template_areas": null,
            "object_position": null,
            "object_fit": null,
            "grid_auto_columns": null,
            "margin": null,
            "display": null,
            "left": null
          }
        }
      }
    }
  },
  "cells": [
    {
      "cell_type": "code",
      "metadata": {
        "id": "awc5n_k2ZUXj"
      },
      "source": [
        "# import os\n",
        "# os.mkdir(\"S8\")\n",
        "# with open('model.py', 'w') as fp: \n",
        "#     pass\n",
        "# %cd ..\n",
        "# %cd ..\n",
        "import shutil\n",
        "try:\n",
        "  shutil.rmtree(\"./EVA5\")\n",
        "except:\n",
        "  pass"
      ],
      "execution_count": 1,
      "outputs": []
    },
    {
      "cell_type": "code",
      "metadata": {
        "colab": {
          "base_uri": "https://localhost:8080/"
        },
        "id": "c3Oim4lcY7dV",
        "outputId": "96202981-3fcf-4b1d-bdfd-35196ccad343"
      },
      "source": [
        "!git clone https://github.com/abishek-raju/EVA5.git"
      ],
      "execution_count": 2,
      "outputs": [
        {
          "output_type": "stream",
          "text": [
            "Cloning into 'EVA5'...\n",
            "remote: Enumerating objects: 81, done.\u001b[K\n",
            "remote: Total 81 (delta 0), reused 0 (delta 0), pack-reused 81\u001b[K\n",
            "Unpacking objects: 100% (81/81), done.\n"
          ],
          "name": "stdout"
        }
      ]
    },
    {
      "cell_type": "code",
      "metadata": {
        "id": "TMxiHh5NHlEL"
      },
      "source": [
        "# %ls"
      ],
      "execution_count": 3,
      "outputs": []
    },
    {
      "cell_type": "code",
      "metadata": {
        "id": "l4Fj7YGQt5ws",
        "colab": {
          "base_uri": "https://localhost:8080/"
        },
        "outputId": "d8b449d6-d4da-4b82-f77a-888f4710abf0"
      },
      "source": [
        "%cd EVA5/S9"
      ],
      "execution_count": 4,
      "outputs": [
        {
          "output_type": "stream",
          "text": [
            "/content/EVA5/S9\n"
          ],
          "name": "stdout"
        }
      ]
    },
    {
      "cell_type": "code",
      "metadata": {
        "id": "waKEYj7saEcY"
      },
      "source": [
        "from __future__ import print_function\n",
        "import torch\n",
        "import torch.nn as nn\n",
        "import torch.nn.functional as F\n",
        "import torch.optim as optim\n",
        "import torchvision\n",
        "from torchvision import datasets, transforms\n",
        "import torch.backends.cudnn as cudnn\n",
        "import numpy as np\n",
        "import matplotlib.pyplot as plt"
      ],
      "execution_count": 5,
      "outputs": []
    },
    {
      "cell_type": "code",
      "metadata": {
        "id": "mWl9VBmshhjp"
      },
      "source": [
        "device = 'cuda' if torch.cuda.is_available() else 'cpu'"
      ],
      "execution_count": 6,
      "outputs": []
    },
    {
      "cell_type": "code",
      "metadata": {
        "colab": {
          "base_uri": "https://localhost:8080/",
          "height": 35
        },
        "id": "kOHQtuP9u4rg",
        "outputId": "3bb5e087-c941-47b8-d039-6be692dd55b2"
      },
      "source": [
        "device"
      ],
      "execution_count": 7,
      "outputs": [
        {
          "output_type": "execute_result",
          "data": {
            "application/vnd.google.colaboratory.intrinsic+json": {
              "type": "string"
            },
            "text/plain": [
              "'cuda'"
            ]
          },
          "metadata": {
            "tags": []
          },
          "execution_count": 7
        }
      ]
    },
    {
      "cell_type": "code",
      "metadata": {
        "id": "bFePulrhfjg_"
      },
      "source": [
        "from dataloader import load_cifar_data"
      ],
      "execution_count": 8,
      "outputs": []
    },
    {
      "cell_type": "code",
      "metadata": {
        "colab": {
          "base_uri": "https://localhost:8080/",
          "height": 100,
          "referenced_widgets": [
            "2c00011763e14a6fa18a5e0a5374c2b1",
            "ed221766cd4245faaa50e7ffac77d7c0",
            "ade271eeb6104db793ad5ace4c7bf10a",
            "a9760799df6648e7ab6f9a263c76217d",
            "76617b09ccfa415588e6ea5a98299b9f",
            "35170405b25c479e951d726175886aee",
            "f60783d5277c49fc860713611e4a0aaa",
            "ba8743e923c7446e9a88c66c6edd471c"
          ]
        },
        "id": "KW7lLqnSfpoe",
        "outputId": "b9e4f3a9-136b-4484-9f4c-3c4648a582f1"
      },
      "source": [
        "trn_loader ,test_loader, classes = load_cifar_data()"
      ],
      "execution_count": 9,
      "outputs": [
        {
          "output_type": "stream",
          "text": [
            "Downloading https://www.cs.toronto.edu/~kriz/cifar-10-python.tar.gz to ./data/cifar-10-python.tar.gz\n"
          ],
          "name": "stdout"
        },
        {
          "output_type": "display_data",
          "data": {
            "application/vnd.jupyter.widget-view+json": {
              "model_id": "2c00011763e14a6fa18a5e0a5374c2b1",
              "version_minor": 0,
              "version_major": 2
            },
            "text/plain": [
              "HBox(children=(FloatProgress(value=1.0, bar_style='info', max=1.0), HTML(value='')))"
            ]
          },
          "metadata": {
            "tags": []
          }
        },
        {
          "output_type": "stream",
          "text": [
            "Extracting ./data/cifar-10-python.tar.gz to ./data\n",
            "Files already downloaded and verified\n"
          ],
          "name": "stdout"
        }
      ]
    },
    {
      "cell_type": "code",
      "metadata": {
        "id": "PTo5VnX0t6z3"
      },
      "source": [
        "from model import ResNet18"
      ],
      "execution_count": 10,
      "outputs": []
    },
    {
      "cell_type": "code",
      "metadata": {
        "id": "aZhU2k42uwrd"
      },
      "source": [
        "net = ResNet18(device)"
      ],
      "execution_count": 11,
      "outputs": []
    },
    {
      "cell_type": "code",
      "metadata": {
        "id": "mLDIU-3BvFQ0"
      },
      "source": [
        "criterion = nn.CrossEntropyLoss()\n",
        "optimizer = optim.SGD(net.parameters(), lr=0.1,\n",
        "                      momentum=0.9, weight_decay=5e-4)\n",
        "scheduler = torch.optim.lr_scheduler.CosineAnnealingLR(optimizer, T_max=200)"
      ],
      "execution_count": 12,
      "outputs": []
    },
    {
      "cell_type": "code",
      "metadata": {
        "id": "6vlTEJ2mGzb6"
      },
      "source": [
        "from train import train\n",
        "from test import test"
      ],
      "execution_count": 13,
      "outputs": []
    },
    {
      "cell_type": "code",
      "metadata": {
        "id": "GK7UmAk-WpBk"
      },
      "source": [
        "def save_checkpoint(checkpoint,file_name = \"model.pth.tar\"):\n",
        "  print(f\"Saving model to {file_name}\")\n",
        "  torch.save(checkpoint,file_name)\n"
      ],
      "execution_count": 14,
      "outputs": []
    },
    {
      "cell_type": "code",
      "metadata": {
        "id": "421PJgmFXXE4"
      },
      "source": [
        "def load_checkpoint(file_name):\n",
        "  print(f\"Loading checkpoint from {file_name}\")\n",
        "  checkpoint = torch.load(file_name)\n",
        "  net.load_state_dict(checkpoint[\"state-dict\"])\n",
        "  optimizer.load_state_dict(checkpoint[\"optimizer\"])"
      ],
      "execution_count": 15,
      "outputs": []
    },
    {
      "cell_type": "code",
      "metadata": {
        "id": "Jpfp7I5dGym4"
      },
      "source": [
        "# best_accuracy = 0\n",
        "# for epoch in range(0,40):\n",
        "#     train_average_loss,train_accuracy = train(epoch,net,device,trn_loader,optimizer,criterion)\n",
        "#     test_average_loss,test_accuracy = test(epoch,net,test_loader,device,criterion)\n",
        "#     print(f'\\nEpoch: {epoch}\\n\\t Train set: Average loss: {train_average_loss}, Accuracy: {train_accuracy}%')\n",
        "#     print(f'\\n\\tTest set: Average loss: {test_average_loss}, Accuracy: {test_accuracy}%')\n",
        "#     if test_accuracy > best_accuracy:\n",
        "#       best_accuracy = test_accuracy\n",
        "#       checkpoint = {'state-dict':net.state_dict(),'optimizer':optimizer.state_dict()}\n",
        "#       save_checkpoint(checkpoint)\n",
        "#     scheduler.step()"
      ],
      "execution_count": 16,
      "outputs": []
    },
    {
      "cell_type": "code",
      "metadata": {
        "colab": {
          "base_uri": "https://localhost:8080/"
        },
        "id": "yGHpKAHvUb0t",
        "outputId": "20a98e7e-c8c7-4626-90f9-ddf5523700ba"
      },
      "source": [
        "load_checkpoint(\"./model.pth.tar\")"
      ],
      "execution_count": 17,
      "outputs": [
        {
          "output_type": "stream",
          "text": [
            "Loading checkpoint from ./model.pth.tar\n"
          ],
          "name": "stdout"
        }
      ]
    },
    {
      "cell_type": "code",
      "metadata": {
        "id": "BjY7TD8AYsI7"
      },
      "source": [
        "try:\n",
        "  shutil.rmtree(\"/content/EVA5/S9/cifar_test_single\")\n",
        "except:\n",
        "  pass"
      ],
      "execution_count": 18,
      "outputs": []
    },
    {
      "cell_type": "code",
      "metadata": {
        "id": "ETklLtCfWyGo"
      },
      "source": [
        "import shutil\n",
        "import os\n",
        "destination = shutil.copytree(\"/content/EVA5/S9/cifar_test\", \"/content/EVA5/S9/cifar_test_single\") \n",
        "# os.remove(\"/content/EVA5/S9/cifar_test_single/just_a_folder/cars_1.jpeg\")\n",
        "os.remove(\"/content/EVA5/S9/cifar_test_single/just_a_folder/cars_2.jpeg\")\n",
        "os.remove(\"/content/EVA5/S9/cifar_test_single/just_a_folder/plane_1.jpg\")\n",
        "os.remove(\"/content/EVA5/S9/cifar_test_single/just_a_folder/plane_2.jpeg\")"
      ],
      "execution_count": 19,
      "outputs": []
    },
    {
      "cell_type": "code",
      "metadata": {
        "id": "RYWYzCwU1-zi"
      },
      "source": [
        "net.to(device)\n",
        "net.eval()\n",
        "transform_test = transforms.Compose([\n",
        "    transforms.ToTensor(),\n",
        "    transforms.Normalize((0.4914, 0.4822, 0.4465), (0.2023, 0.1994, 0.2010)),\n",
        "    transforms.Resize((32,32))])\n",
        "transform_test_without_resize = transforms.Compose([\n",
        "    transforms.ToTensor()])\n",
        "# dataset = {'predict' : datasets.ImageFolder(\"/content/EVA5/S9/cifar_test_single\", transform_test)}\n",
        "# dataloader = {'predict': torch.utils.data.DataLoader(dataset['predict'], batch_size = 1, shuffle=False, num_workers=4)}\n",
        "\n",
        "# outputs = list()\n",
        "# for inputs, labels in dataloader['predict']:\n",
        "#     inputs = inputs.to(device)\n",
        "#     output = net(inputs)\n",
        "#     output = output.to(device)\n",
        "#     index = output.cpu().data.numpy().argmax()\n",
        "#     print(index)"
      ],
      "execution_count": 81,
      "outputs": []
    },
    {
      "cell_type": "code",
      "metadata": {
        "id": "7WDEWd9DXBeZ"
      },
      "source": [
        "from PIL import Image\n",
        "from torch.autograd import Variable\n",
        "def image_loader(image_name,device):\n",
        "    \"\"\"load image, returns cuda tensor\"\"\"\n",
        "    image = Image.open(image_name)\n",
        "    original_image = Image.open(image_name)\n",
        "    # original_image = transform_test_without_resize(original_image)\n",
        "    image = transform_test(image).float()\n",
        "    image = Variable(image, requires_grad=True)\n",
        "    image = image.unsqueeze(0)  #this is for VGG, may not be needed for ResNet\n",
        "    return image.to(device), original_image #assumes that you're using GPU"
      ],
      "execution_count": 97,
      "outputs": []
    },
    {
      "cell_type": "code",
      "metadata": {
        "colab": {
          "base_uri": "https://localhost:8080/"
        },
        "id": "IukeGJkAYBhx",
        "outputId": "27cbcc4c-dec9-4e7a-d525-60171d1852af"
      },
      "source": [
        "# temp = np.array(orgi)\n",
        "# temp.shape"
      ],
      "execution_count": 96,
      "outputs": [
        {
          "output_type": "execute_result",
          "data": {
            "text/plain": [
              "(168, 299, 3)"
            ]
          },
          "metadata": {
            "tags": []
          },
          "execution_count": 96
        }
      ]
    },
    {
      "cell_type": "code",
      "metadata": {
        "id": "0ES--YtLA6o1"
      },
      "source": [
        "# net"
      ],
      "execution_count": 21,
      "outputs": []
    },
    {
      "cell_type": "code",
      "metadata": {
        "id": "YscKTAW0LbIz"
      },
      "source": [
        "# net.module.layer4[1].conv2"
      ],
      "execution_count": 22,
      "outputs": []
    },
    {
      "cell_type": "code",
      "metadata": {
        "id": "-f0QCG7CFjxS"
      },
      "source": [
        "# res50_model.module"
      ],
      "execution_count": 23,
      "outputs": []
    },
    {
      "cell_type": "code",
      "metadata": {
        "id": "p_RoHG5BDMMa"
      },
      "source": [
        "# temp = nn.Sequential(*list(net.children()))"
      ],
      "execution_count": 24,
      "outputs": []
    },
    {
      "cell_type": "code",
      "metadata": {
        "id": "fh4BXeVZDUPq"
      },
      "source": [
        "# outputs= []\n",
        "# def hook(module, input, output):\n",
        "#     outputs.append(output)\n",
        "\n",
        "# res50_model = net\n",
        "# res50_model.module.layer4[0].conv2.register_forward_hook(hook)\n",
        "# out = res50_model(res)\n",
        "# out = res50_model(res1)\n",
        "# print(outputs)"
      ],
      "execution_count": 25,
      "outputs": []
    },
    {
      "cell_type": "code",
      "metadata": {
        "id": "UsjoSdT9CIQX"
      },
      "source": [
        "# list(net.children())[0].children"
      ],
      "execution_count": 26,
      "outputs": []
    },
    {
      "cell_type": "code",
      "metadata": {
        "id": "45iz4OmnGHoq"
      },
      "source": [
        "# nn.Sequential(*list(original_model.children())[:-2])"
      ],
      "execution_count": 27,
      "outputs": []
    },
    {
      "cell_type": "code",
      "metadata": {
        "id": "HllYTkJwGKF5"
      },
      "source": [
        "# nn.Sequential(*list(net.module.children()))"
      ],
      "execution_count": 28,
      "outputs": []
    },
    {
      "cell_type": "code",
      "metadata": {
        "id": "GUWtnRm0He2r"
      },
      "source": [
        "class Grad_Res(nn.Module):\n",
        "    def __init__(self,model):\n",
        "        super().__init__()\n",
        "        \n",
        "        # get the pretrained VGG19 network\n",
        "        self.res_model = model\n",
        "        \n",
        "        # disect the network to access its last convolutional layer\n",
        "        self.features_conv = nn.Sequential(*list(self.res_model.module.children())[:-2])\n",
        "        # self.features_conv = self.vgg.features[:36]\n",
        "        \n",
        "        # # get the max pool of the features stem\n",
        "        # self.max_pool = nn.MaxPool2d(kernel_size=2, stride=2, padding=0, dilation=1, ceil_mode=False)\n",
        "        \n",
        "        self.classifier1 = list(self.res_model.module.children())[-2:][0]\n",
        "        self.classifier2 = list(self.res_model.module.children())[-2:][1]\n",
        "\n",
        "        \n",
        "        # placeholder for the gradients\n",
        "        self.gradients = None\n",
        "    \n",
        "    # hook for the gradients of the activations\n",
        "    def activations_hook(self, grad):\n",
        "        self.gradients = grad\n",
        "        \n",
        "    def forward(self, x):\n",
        "        x = self.features_conv(x)\n",
        "        # print(\"aaaaaa\")\n",
        "        # register the hook\n",
        "        h = x.register_hook(self.activations_hook)\n",
        "        # print(\"bbbbbb\")\n",
        "        print(x.shape)\n",
        "        # apply the remaining pooling\n",
        "        x = self.classifier1(x)\n",
        "        # print(\"before linear\",x.shape)\n",
        "        x = F.avg_pool2d(x, 4)\n",
        "        x = x.view(x.size(0), -1)\n",
        "        x = self.classifier2(x)\n",
        "        # print(\"cccccc\")\n",
        "        return x\n",
        "    \n",
        "    # method for the gradient extraction\n",
        "    def get_activations_gradient(self):\n",
        "        return self.gradients\n",
        "    \n",
        "    # method for the activation exctraction\n",
        "    def get_activations(self, x):\n",
        "        return self.features_conv(x)"
      ],
      "execution_count": 52,
      "outputs": []
    },
    {
      "cell_type": "code",
      "metadata": {
        "id": "-LbxTWvWd004"
      },
      "source": [
        ""
      ],
      "execution_count": null,
      "outputs": []
    },
    {
      "cell_type": "code",
      "metadata": {
        "colab": {
          "base_uri": "https://localhost:8080/"
        },
        "id": "I4QpnZsnAmsy",
        "outputId": "ed3336cd-a519-41c1-ae7b-e6f9e64d26a6"
      },
      "source": [
        "def grad_cam_view(class_of_interest,img,device):\n",
        "  grad_res = Grad_Res(net)\n",
        "  grad_res.eval()\n",
        "  img = img.to(device)\n",
        "  pred = grad_res(img)\n",
        "  pred[:,class_of_interest].backward()\n",
        "  gradients = grad_res.get_activations_gradient()\n",
        "  pooled_gradients = torch.mean(gradients, dim=[0, 2, 3])\n",
        "  activations = grad_res.get_activations(img).detach()\n",
        "  for i in range(256):\n",
        "    activations[:, i, :, :] *= pooled_gradients[i]\n",
        "  heatmap = torch.mean(activations, dim=1).squeeze()\n",
        "  heatmap = np.maximum(heatmap.cpu(), 0)\n",
        "  heatmap /= torch.max(heatmap)\n",
        "  return heatmap\n",
        "# classes = ('plane', 'car', 'bird', 'cat', 'deer','dog', 'frog', 'horse', 'ship', 'truck')\n",
        "# img, _ = next(iter(dataloader['predict']))\n",
        "# heatmap_generated = grad_cam_view(1,img,device)"
      ],
      "execution_count": 103,
      "outputs": [
        {
          "output_type": "stream",
          "text": [
            "torch.Size([1, 256, 8, 8])\n"
          ],
          "name": "stdout"
        }
      ]
    },
    {
      "cell_type": "code",
      "metadata": {
        "id": "c7K2DUJxXO8j"
      },
      "source": [
        "# img,orgi = image_loader(\"/content/EVA5/S9/cifar_test/just_a_folder/plane_1.jpg\",device)\n"
      ],
      "execution_count": 102,
      "outputs": []
    },
    {
      "cell_type": "code",
      "metadata": {
        "colab": {
          "base_uri": "https://localhost:8080/"
        },
        "id": "Efnn5x0hVLGH",
        "outputId": "9ff3adf2-a85b-4e85-b3e1-97de61bc10ac"
      },
      "source": [
        "\n",
        "img,orgi = image_loader(\"/content/EVA5/S9/cifar_test/just_a_folder/cars_1.jpeg\",device)\n",
        "# classes = ('plane', 'car', 'bird', 'cat', 'deer','dog', 'frog', 'horse', 'ship', 'truck')\n",
        "\n",
        "heatmap_generated = grad_cam_view(1,img,device)\n",
        "import cv2\n",
        "# temp = cv2.imread('/content/EVA5/S9/cifar_test_single/just_a_folder/cars_1.jpeg')\n",
        "# temp = orgi.permute(1, 2, 0).numpy()\n",
        "temp = np.array(orgi)\n",
        "# temp = Image.fromarray(temp)\n",
        "heatmap = cv2.resize(heatmap_generated.numpy(), (temp.shape[1], temp.shape[0]))\n",
        "heatmap = np.uint8(255 * heatmap)\n",
        "heatmap = cv2.applyColorMap(heatmap, cv2.COLORMAP_JET)\n",
        "superimposed_img = heatmap * 0.7+ Image.fromarray(temp)\n",
        "# superimposed_img_resized = cv2.resize(superimposed_img, (200, 200))\n",
        "cv2.imwrite('./map.jpg', superimposed_img)"
      ],
      "execution_count": 121,
      "outputs": [
        {
          "output_type": "stream",
          "text": [
            "torch.Size([1, 256, 8, 8])\n"
          ],
          "name": "stdout"
        },
        {
          "output_type": "execute_result",
          "data": {
            "text/plain": [
              "True"
            ]
          },
          "metadata": {
            "tags": []
          },
          "execution_count": 121
        }
      ]
    },
    {
      "cell_type": "code",
      "metadata": {
        "id": "iHdCsVsaI1C5"
      },
      "source": [
        "# # initialize the VGG model\n",
        "# vgg = VGG(net)\n",
        "\n",
        "# # set the evaluation mode\n",
        "# vgg.eval()\n",
        "\n",
        "# # get the image from the dataloader\n",
        "# img, _ = next(iter(dataloader['predict']))\n",
        "# img = img.to(device)\n",
        "# # get the most likely prediction of the model\n",
        "# pred = vgg(img)"
      ],
      "execution_count": null,
      "outputs": []
    },
    {
      "cell_type": "code",
      "metadata": {
        "id": "pEUp1dJuRrrJ"
      },
      "source": [
        "# pred"
      ],
      "execution_count": null,
      "outputs": []
    },
    {
      "cell_type": "code",
      "metadata": {
        "id": "6QfJpaPfSb-M"
      },
      "source": [
        "# pred[:,1].backward()"
      ],
      "execution_count": null,
      "outputs": []
    },
    {
      "cell_type": "code",
      "metadata": {
        "id": "hM5bVI4XSnyX"
      },
      "source": [
        "# gradients = vgg.get_activations_gradient()"
      ],
      "execution_count": null,
      "outputs": []
    },
    {
      "cell_type": "code",
      "metadata": {
        "id": "eegJBl88Sq85"
      },
      "source": [
        "# pooled_gradients = torch.mean(gradients, dim=[0, 2, 3])"
      ],
      "execution_count": null,
      "outputs": []
    },
    {
      "cell_type": "code",
      "metadata": {
        "id": "Q0F5GlNcStA1"
      },
      "source": [
        "# activations = vgg.get_activations(img).detach()"
      ],
      "execution_count": null,
      "outputs": []
    },
    {
      "cell_type": "code",
      "metadata": {
        "id": "-KGwdWuHS6o8"
      },
      "source": [
        "# pooled_gradients.shape"
      ],
      "execution_count": null,
      "outputs": []
    },
    {
      "cell_type": "code",
      "metadata": {
        "id": "Tawq1u_DTCuZ"
      },
      "source": [
        "# activations.shape"
      ],
      "execution_count": null,
      "outputs": []
    },
    {
      "cell_type": "code",
      "metadata": {
        "id": "m5-pJNdiTMZZ"
      },
      "source": [
        "# for i in range(256):\n",
        "#     activations[:, i, :, :] *= pooled_gradients[i]"
      ],
      "execution_count": null,
      "outputs": []
    },
    {
      "cell_type": "code",
      "metadata": {
        "id": "Fki2Mar-TVfl"
      },
      "source": [
        "# heatmap = torch.mean(activations, dim=1).squeeze()"
      ],
      "execution_count": null,
      "outputs": []
    },
    {
      "cell_type": "code",
      "metadata": {
        "id": "QoT6FmSvUASb"
      },
      "source": [
        "# import numpy as np\n",
        "# np.maximum(heatmap.cpu(), 0)"
      ],
      "execution_count": null,
      "outputs": []
    },
    {
      "cell_type": "code",
      "metadata": {
        "id": "FV11-OhYTXX9"
      },
      "source": [
        "# heatmap = np.maximum(heatmap.cpu(), 0)"
      ],
      "execution_count": null,
      "outputs": []
    },
    {
      "cell_type": "code",
      "metadata": {
        "id": "sZ2lm4BgTv9j"
      },
      "source": [
        "# heatmap /= torch.max(heatmap)"
      ],
      "execution_count": null,
      "outputs": []
    },
    {
      "cell_type": "code",
      "metadata": {
        "id": "8ZGJfCzaUXe_"
      },
      "source": [
        "# import matplotlib.pyplot as plt"
      ],
      "execution_count": null,
      "outputs": []
    },
    {
      "cell_type": "code",
      "metadata": {
        "id": "29tm_urnUUtR"
      },
      "source": [
        "# plt.matshow(heatmap.squeeze())"
      ],
      "execution_count": null,
      "outputs": []
    },
    {
      "cell_type": "code",
      "metadata": {
        "id": "tASlpQR4X7kk"
      },
      "source": [
        "# img"
      ],
      "execution_count": null,
      "outputs": []
    },
    {
      "cell_type": "code",
      "metadata": {
        "id": "eBTxRxCRTxAi"
      },
      "source": [
        "# plt.matshow(np.transpose(img[0].cpu(),(1,2,0)))"
      ],
      "execution_count": null,
      "outputs": []
    },
    {
      "cell_type": "code",
      "metadata": {
        "id": "clglfXWKVgqS"
      },
      "source": [
        "# heatmap.numpy()"
      ],
      "execution_count": null,
      "outputs": []
    },
    {
      "cell_type": "code",
      "metadata": {
        "colab": {
          "base_uri": "https://localhost:8080/"
        },
        "id": "fju1wDepbw2x",
        "outputId": "e1d5159e-fbac-497d-a8c1-b5057f42bb47"
      },
      "source": [
        "orgi"
      ],
      "execution_count": 91,
      "outputs": [
        {
          "output_type": "execute_result",
          "data": {
            "text/plain": [
              "tensor([[[0.4353, 0.4353, 0.4314,  ..., 0.8588, 0.8588, 0.8588],\n",
              "         [0.4353, 0.4314, 0.4314,  ..., 0.8627, 0.8627, 0.8627],\n",
              "         [0.4510, 0.4510, 0.4471,  ..., 0.8549, 0.8549, 0.8549],\n",
              "         ...,\n",
              "         [0.4235, 0.4157, 0.3412,  ..., 0.5059, 0.5098, 0.5098],\n",
              "         [0.4353, 0.4510, 0.4157,  ..., 0.5412, 0.5451, 0.5412],\n",
              "         [0.4588, 0.3725, 0.4392,  ..., 0.6196, 0.6235, 0.6157]],\n",
              "\n",
              "        [[0.6078, 0.6078, 0.6039,  ..., 0.9020, 0.9020, 0.9020],\n",
              "         [0.5961, 0.5922, 0.5961,  ..., 0.8941, 0.8941, 0.8941],\n",
              "         [0.6000, 0.6000, 0.5961,  ..., 0.8784, 0.8784, 0.8784],\n",
              "         ...,\n",
              "         [0.4235, 0.4157, 0.3412,  ..., 0.4000, 0.3961, 0.3961],\n",
              "         [0.4353, 0.4510, 0.4157,  ..., 0.4353, 0.4314, 0.4275],\n",
              "         [0.4588, 0.3725, 0.4392,  ..., 0.5137, 0.5098, 0.5020]],\n",
              "\n",
              "        [[0.7216, 0.7216, 0.7176,  ..., 0.8392, 0.8392, 0.8471],\n",
              "         [0.7059, 0.7020, 0.6941,  ..., 0.8431, 0.8431, 0.8431],\n",
              "         [0.6902, 0.6902, 0.6863,  ..., 0.8314, 0.8314, 0.8392],\n",
              "         ...,\n",
              "         [0.4627, 0.4549, 0.3804,  ..., 0.3333, 0.3333, 0.3255],\n",
              "         [0.4745, 0.4902, 0.4549,  ..., 0.3686, 0.3608, 0.3569],\n",
              "         [0.4980, 0.4118, 0.4784,  ..., 0.4392, 0.4392, 0.4314]]])"
            ]
          },
          "metadata": {
            "tags": []
          },
          "execution_count": 91
        }
      ]
    },
    {
      "cell_type": "code",
      "metadata": {
        "colab": {
          "base_uri": "https://localhost:8080/"
        },
        "id": "24VR4rUSEPkf",
        "outputId": "f5aa173b-6b9f-466a-f466-faeea534e59c"
      },
      "source": [
        "temp"
      ],
      "execution_count": 79,
      "outputs": [
        {
          "output_type": "execute_result",
          "data": {
            "text/plain": [
              "array([[[182, 155, 111],\n",
              "        [182, 155, 111],\n",
              "        [181, 154, 110],\n",
              "        ...,\n",
              "        [214, 230, 219],\n",
              "        [214, 230, 219],\n",
              "        [216, 230, 219]],\n",
              "\n",
              "       [[178, 153, 111],\n",
              "        [177, 152, 110],\n",
              "        [177, 152, 110],\n",
              "        ...,\n",
              "        [213, 228, 220],\n",
              "        [213, 228, 220],\n",
              "        [215, 228, 220]],\n",
              "\n",
              "       [[174, 152, 116],\n",
              "        [174, 152, 116],\n",
              "        [173, 151, 115],\n",
              "        ...,\n",
              "        [212, 224, 218],\n",
              "        [212, 224, 218],\n",
              "        [214, 224, 218]],\n",
              "\n",
              "       ...,\n",
              "\n",
              "       [[118, 108, 108],\n",
              "        [116, 106, 106],\n",
              "        [ 97,  87,  87],\n",
              "        ...,\n",
              "        [ 85, 102, 129],\n",
              "        [ 85, 102, 129],\n",
              "        [ 83, 101, 130]],\n",
              "\n",
              "       [[121, 111, 111],\n",
              "        [125, 115, 115],\n",
              "        [116, 106, 106],\n",
              "        ...,\n",
              "        [ 94, 111, 138],\n",
              "        [ 92, 111, 138],\n",
              "        [ 91, 109, 138]],\n",
              "\n",
              "       [[127, 117, 117],\n",
              "        [105,  95,  95],\n",
              "        [122, 112, 112],\n",
              "        ...,\n",
              "        [112, 131, 158],\n",
              "        [112, 131, 158],\n",
              "        [110, 128, 157]]], dtype=uint8)"
            ]
          },
          "metadata": {
            "tags": []
          },
          "execution_count": 79
        }
      ]
    },
    {
      "cell_type": "code",
      "metadata": {
        "colab": {
          "base_uri": "https://localhost:8080/"
        },
        "id": "8zbL4uSdEYcJ",
        "outputId": "3e0e78ce-f873-466a-eb19-f284795e87e3"
      },
      "source": [
        "temp = orgi.permute(1, 2, 0).numpy()\n",
        "temp.shape"
      ],
      "execution_count": 71,
      "outputs": [
        {
          "output_type": "execute_result",
          "data": {
            "text/plain": [
              "(168, 299, 3)"
            ]
          },
          "metadata": {
            "tags": []
          },
          "execution_count": 71
        }
      ]
    },
    {
      "cell_type": "code",
      "metadata": {
        "id": "sUhT8bZeC9p3"
      },
      "source": [
        "img, _ = next(iter(dataloader['predict']))"
      ],
      "execution_count": 44,
      "outputs": []
    },
    {
      "cell_type": "code",
      "metadata": {
        "colab": {
          "base_uri": "https://localhost:8080/"
        },
        "id": "HD-iIzH1EZRg",
        "outputId": "bcee2462-98ab-46bd-e489-ed264ddd5413"
      },
      "source": [
        "img[0].permute(1, 2, 0).numpy()"
      ],
      "execution_count": 48,
      "outputs": [
        {
          "output_type": "execute_result",
          "data": {
            "text/plain": [
              "array([[[-0.20797835,  0.57018375,  1.1383404 ],\n",
              "        [-0.31368673,  0.48260483,  0.93557805],\n",
              "        [-0.21191593,  0.45064625,  1.0173155 ],\n",
              "        ...,\n",
              "        [ 1.8691988 ,  2.0138144 ,  1.8461598 ],\n",
              "        [ 1.9131557 ,  2.0584106 ,  1.8904009 ],\n",
              "        [ 1.8191464 ,  1.9999095 ,  1.8908963 ]],\n",
              "\n",
              "       [[ 0.5839637 ,  0.845097  ,  0.79892963],\n",
              "        [ 0.5029029 ,  0.7702324 ,  0.63907486],\n",
              "        [ 0.6041815 ,  0.7476078 ,  0.6705123 ],\n",
              "        ...,\n",
              "        [-0.13399763, -0.3208934 , -0.71628064],\n",
              "        [ 0.00779251, -0.1770412 , -0.5735735 ],\n",
              "        [-0.36199754, -0.52516735, -0.90673465]],\n",
              "\n",
              "       [[-0.58662784, -0.4506869 , -0.39386553],\n",
              "        [-0.64247304, -0.48767748, -0.53055185],\n",
              "        [-0.8079642 , -0.7416179 , -0.8190527 ],\n",
              "        ...,\n",
              "        [ 0.10339201,  0.04532473,  0.0323505 ],\n",
              "        [ 0.1142581 ,  0.05634901,  0.04328693],\n",
              "        [ 0.08105387,  0.10624593,  0.02206189]],\n",
              "\n",
              "       ...,\n",
              "\n",
              "       [[-0.5609958 , -0.5230163 , -0.14613813],\n",
              "        [-0.65598947, -0.61939156, -0.24174622],\n",
              "        [-0.6280858 , -0.63041574, -0.23317236],\n",
              "        ...,\n",
              "        [-0.24455224, -0.81202674, -0.8874911 ],\n",
              "        [-0.38308623, -0.62688184, -0.6031057 ],\n",
              "        [-0.31542835, -0.7065479 , -0.78300434]],\n",
              "\n",
              "       [[-0.68877727, -0.65265614, -0.27474603],\n",
              "        [-0.501781  , -0.46294025, -0.08654028],\n",
              "        [-0.73303694, -0.71230966, -0.31197563],\n",
              "        ...,\n",
              "        [-0.32205406, -0.6346026 , -0.6787462 ],\n",
              "        [-0.09946825, -0.5582783 , -0.6945984 ],\n",
              "        [-0.07186742, -0.5172546 , -0.5939603 ]],\n",
              "\n",
              "       [[-0.38047382, -0.33986884,  0.03555143],\n",
              "        [-0.74572045, -0.7104275 , -0.33205754],\n",
              "        [-0.45699123, -0.4174991 , -0.04146089],\n",
              "        ...,\n",
              "        [ 0.28993398, -0.13171528, -0.18717837],\n",
              "        [ 0.04890966, -0.356578  , -0.5273129 ],\n",
              "        [ 0.23749624, -0.22424932, -0.33750665]]], dtype=float32)"
            ]
          },
          "metadata": {
            "tags": []
          },
          "execution_count": 48
        }
      ]
    },
    {
      "cell_type": "code",
      "metadata": {
        "id": "wcyVzFX2V1ge"
      },
      "source": [
        "# import os\n",
        "# os.getcwd()"
      ],
      "execution_count": null,
      "outputs": []
    },
    {
      "cell_type": "markdown",
      "metadata": {
        "id": "q9Y7XqF0aYXH"
      },
      "source": [
        ""
      ]
    }
  ]
}